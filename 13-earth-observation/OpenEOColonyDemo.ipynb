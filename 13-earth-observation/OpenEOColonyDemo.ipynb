{
 "cells": [
  {
   "cell_type": "code",
   "execution_count": 1,
   "id": "7ff2f5c2-5e62-4a78-a28c-afed0636f49f",
   "metadata": {},
   "outputs": [
    {
     "name": "stdout",
     "output_type": "stream",
     "text": [
      "Requirement already satisfied: geopandas in /usr/local/lib/python3.8/dist-packages (0.13.2)\n",
      "Requirement already satisfied: matplotlib in /usr/local/lib/python3.8/dist-packages (3.7.5)\n",
      "Requirement already satisfied: contextily in /usr/local/lib/python3.8/dist-packages (1.5.2)\n",
      "Requirement already satisfied: openeo in /usr/local/lib/python3.8/dist-packages (0.31.0)\n",
      "Requirement already satisfied: fiona>=1.8.19 in /usr/local/lib/python3.8/dist-packages (from geopandas) (1.9.6)\n",
      "Requirement already satisfied: packaging in /usr/local/lib/python3.8/dist-packages (from geopandas) (23.1)\n",
      "Requirement already satisfied: pandas>=1.1.0 in /usr/local/lib/python3.8/dist-packages (from geopandas) (2.0.3)\n",
      "Requirement already satisfied: pyproj>=3.0.1 in /usr/local/lib/python3.8/dist-packages (from geopandas) (3.5.0)\n",
      "Requirement already satisfied: shapely>=1.7.1 in /usr/local/lib/python3.8/dist-packages (from geopandas) (2.0.3)\n",
      "Requirement already satisfied: contourpy>=1.0.1 in /usr/local/lib/python3.8/dist-packages (from matplotlib) (1.1.1)\n",
      "Requirement already satisfied: cycler>=0.10 in /usr/local/lib/python3.8/dist-packages (from matplotlib) (0.12.1)\n",
      "Requirement already satisfied: fonttools>=4.22.0 in /usr/local/lib/python3.8/dist-packages (from matplotlib) (4.51.0)\n",
      "Requirement already satisfied: kiwisolver>=1.0.1 in /usr/local/lib/python3.8/dist-packages (from matplotlib) (1.4.5)\n",
      "Requirement already satisfied: numpy<2,>=1.20 in /usr/local/lib/python3.8/dist-packages (from matplotlib) (1.24.3)\n",
      "Requirement already satisfied: pillow>=6.2.0 in /usr/local/lib/python3.8/dist-packages (from matplotlib) (10.3.0)\n",
      "Requirement already satisfied: pyparsing>=2.3.1 in /usr/local/lib/python3.8/dist-packages (from matplotlib) (3.1.2)\n",
      "Requirement already satisfied: python-dateutil>=2.7 in /usr/local/lib/python3.8/dist-packages (from matplotlib) (2.9.0.post0)\n",
      "Requirement already satisfied: importlib-resources>=3.2.0 in /usr/local/lib/python3.8/dist-packages (from matplotlib) (6.4.0)\n",
      "Requirement already satisfied: geopy in /usr/local/lib/python3.8/dist-packages (from contextily) (2.4.1)\n",
      "Requirement already satisfied: mercantile in /usr/local/lib/python3.8/dist-packages (from contextily) (1.2.1)\n",
      "Requirement already satisfied: rasterio in /usr/local/lib/python3.8/dist-packages (from contextily) (1.3.10)\n",
      "Requirement already satisfied: requests in /usr/local/lib/python3.8/dist-packages (from contextily) (2.31.0)\n",
      "Requirement already satisfied: joblib in /usr/local/lib/python3.8/dist-packages (from contextily) (1.4.0)\n",
      "Requirement already satisfied: xyzservices in /usr/local/lib/python3.8/dist-packages (from contextily) (2024.4.0)\n",
      "Requirement already satisfied: xarray>=0.12.3 in /usr/local/lib/python3.8/dist-packages (from openeo) (2023.1.0)\n",
      "Requirement already satisfied: pystac>=1.5.0 in /usr/local/lib/python3.8/dist-packages (from openeo) (1.8.4)\n",
      "Requirement already satisfied: deprecated>=1.2.12 in /usr/local/lib/python3.8/dist-packages (from openeo) (1.2.14)\n",
      "Requirement already satisfied: wrapt<2,>=1.10 in /usr/local/lib/python3.8/dist-packages (from deprecated>=1.2.12->openeo) (1.15.0)\n",
      "Requirement already satisfied: attrs>=19.2.0 in /usr/local/lib/python3.8/dist-packages (from fiona>=1.8.19->geopandas) (23.2.0)\n",
      "Requirement already satisfied: certifi in /usr/lib/python3/dist-packages (from fiona>=1.8.19->geopandas) (2019.11.28)\n",
      "Requirement already satisfied: click~=8.0 in /usr/local/lib/python3.8/dist-packages (from fiona>=1.8.19->geopandas) (8.1.7)\n",
      "Requirement already satisfied: click-plugins>=1.0 in /usr/local/lib/python3.8/dist-packages (from fiona>=1.8.19->geopandas) (1.1.1)\n",
      "Requirement already satisfied: cligj>=0.5 in /usr/local/lib/python3.8/dist-packages (from fiona>=1.8.19->geopandas) (0.7.2)\n",
      "Requirement already satisfied: six in /usr/lib/python3/dist-packages (from fiona>=1.8.19->geopandas) (1.14.0)\n",
      "Requirement already satisfied: importlib-metadata in /usr/local/lib/python3.8/dist-packages (from fiona>=1.8.19->geopandas) (6.7.0)\n",
      "Requirement already satisfied: zipp>=3.1.0 in /usr/local/lib/python3.8/dist-packages (from importlib-resources>=3.2.0->matplotlib) (3.15.0)\n",
      "Requirement already satisfied: pytz>=2020.1 in /usr/local/lib/python3.8/dist-packages (from pandas>=1.1.0->geopandas) (2024.1)\n",
      "Requirement already satisfied: tzdata>=2022.1 in /usr/local/lib/python3.8/dist-packages (from pandas>=1.1.0->geopandas) (2024.1)\n",
      "Requirement already satisfied: charset-normalizer<4,>=2 in /usr/local/lib/python3.8/dist-packages (from requests->contextily) (3.3.2)\n",
      "Requirement already satisfied: idna<4,>=2.5 in /usr/lib/python3/dist-packages (from requests->contextily) (2.8)\n",
      "Requirement already satisfied: urllib3<3,>=1.21.1 in /usr/lib/python3/dist-packages (from requests->contextily) (1.25.8)\n",
      "Requirement already satisfied: geographiclib<3,>=1.52 in /usr/local/lib/python3.8/dist-packages (from geopy->contextily) (2.0)\n",
      "Requirement already satisfied: affine in /usr/local/lib/python3.8/dist-packages (from rasterio->contextily) (2.4.0)\n",
      "Requirement already satisfied: snuggs>=1.4.1 in /usr/local/lib/python3.8/dist-packages (from rasterio->contextily) (1.4.7)\n",
      "Requirement already satisfied: setuptools in /usr/local/lib/python3.8/dist-packages (from rasterio->contextily) (68.0.0)\n",
      "\u001b[33mWARNING: Running pip as the 'root' user can result in broken permissions and conflicting behaviour with the system package manager. It is recommended to use a virtual environment instead: https://pip.pypa.io/warnings/venv\u001b[0m\u001b[33m\n",
      "\u001b[0m\n",
      "\u001b[1m[\u001b[0m\u001b[34;49mnotice\u001b[0m\u001b[1;39;49m]\u001b[0m\u001b[39;49m A new release of pip is available: \u001b[0m\u001b[31;49m23.3.2\u001b[0m\u001b[39;49m -> \u001b[0m\u001b[32;49m24.2\u001b[0m\n",
      "\u001b[1m[\u001b[0m\u001b[34;49mnotice\u001b[0m\u001b[1;39;49m]\u001b[0m\u001b[39;49m To update, run: \u001b[0m\u001b[32;49mpython3 -m pip install --upgrade pip\u001b[0m\n"
     ]
    }
   ],
   "source": [
    "!pip install geopandas matplotlib contextily openeo"
   ]
  },
  {
   "cell_type": "markdown",
   "id": "93520cbf-6dd3-43ee-8dde-864a83485373",
   "metadata": {},
   "source": [
    "## Define an area of interest"
   ]
  },
  {
   "cell_type": "code",
   "execution_count": 5,
   "id": "0ac5726d-32da-4966-bdd0-e0189c5d3d73",
   "metadata": {},
   "outputs": [],
   "source": [
    "aoi = {\n",
    "    'east': 22.136334940987638,  # max longitude\n",
    "    'south': 65.63560585326866,  # min latitude\n",
    "    'west': 21.79257719972466,   # min longitude\n",
    "    'north': 65.78212032521256   # max latitude\n",
    "}"
   ]
  },
  {
   "cell_type": "markdown",
   "id": "e3f1670b-47ae-40fe-95fe-6cf228d09e1a",
   "metadata": {},
   "source": [
    "## Plot an area of interest"
   ]
  },
  {
   "cell_type": "code",
   "execution_count": 7,
   "id": "75c27e06-58ab-4bc7-95f2-739efa1e57b9",
   "metadata": {},
   "outputs": [
    {
     "data": {
      "text/html": [
       "\n",
       "        <iframe\n",
       "            width=\"700\"\n",
       "            height=\"500\"\n",
       "            src=\"bounding_box_map.html\"\n",
       "            frameborder=\"0\"\n",
       "            allowfullscreen\n",
       "            \n",
       "        ></iframe>\n",
       "        "
      ],
      "text/plain": [
       "<IPython.lib.display.IFrame at 0x7f981bed0070>"
      ]
     },
     "metadata": {},
     "output_type": "display_data"
    }
   ],
   "source": [
    "import folium\n",
    "import io\n",
    "import numpy as np\n",
    "import openeo\n",
    "import json\n",
    "import rasterio\n",
    "from pathlib import Path\n",
    "from config import *\n",
    "from demo_helpers import show_result\n",
    "from demo_regions import s2,s3\n",
    "from config import user,passwd,eo_service_url\n",
    "from demo_regions import s2\n",
    "from matplotlib import pyplot as plt\n",
    "from IPython.display import display, IFrame\n",
    "\n",
    "center_lat = (aoi['north'] + aoi['south']) / 2\n",
    "center_lon = (aoi['east'] + aoi['west']) / 2\n",
    "\n",
    "m = folium.Map(location=[center_lat, center_lon], zoom_start=2, tiles=\"OpenStreetMap\")\n",
    "\n",
    "folium.Rectangle(\n",
    "    bounds=[\n",
    "        [aoi['south'], aoi['west']],\n",
    "        [aoi['north'], aoi['east']]\n",
    "    ],\n",
    "    color=\"red\",\n",
    "    weight=2,\n",
    "    fill=True,\n",
    "    fill_opacity=0.2\n",
    ").add_to(m)\n",
    "\n",
    "## Save the map as an HTML file\n",
    "#m.save(\"bounding_box_map.html\")\n",
    "\n",
    "# Display the map directly in the notebook\n",
    "display(IFrame(\"bounding_box_map.html\", width=700, height=500))"
   ]
  },
  {
   "cell_type": "markdown",
   "id": "a1e0f7e3-1cfa-4097-a94e-968bce2d8594",
   "metadata": {},
   "source": [
    "## OpenEO utility functions"
   ]
  },
  {
   "cell_type": "code",
   "execution_count": 24,
   "id": "7324e3f6-2563-426d-b860-b26418629c20",
   "metadata": {},
   "outputs": [
    {
     "name": "stdout",
     "output_type": "stream",
     "text": [
      "https://openeo.digitalearth.se\n",
      "testuser\n",
      "<Connection to 'https://openeo.digitalearth.se/' with BasicBearerAuth>\n"
     ]
    }
   ],
   "source": [
    "%matplotlib inline\n",
    "plt.rcParams['figure.figsize'] = [20, 20]\n",
    "\n",
    "connection = openeo.connect(eo_service_url)\n",
    "\n",
    "print(eo_service_url)\n",
    "print(user)\n",
    "print(connection.authenticate_basic(username=user, password=passwd))\n",
    "\n",
    "def poll_job(job, polling_interval=10):\n",
    "    while True:\n",
    "        status = job.status()\n",
    "    \n",
    "        print(f\"Job status: {status}\")\n",
    "        \n",
    "        if status == \"finished\":\n",
    "            print(\"Job has finished.\")\n",
    "            break\n",
    "            \n",
    "        time.sleep(polling_interval)\n",
    "\n",
    "def plot_file(file_path: str, title: str=\"\"):\n",
    "    with rasterio.open(file_path) as im:\n",
    "        r = im.read(1)\n",
    "        g = im.read(2)\n",
    "        b = im.read(3)\n",
    "\n",
    "        r_normalized = normalize(r)\n",
    "        g_normalized = normalize(g)\n",
    "        b_normalized = normalize(b)\n",
    "\n",
    "        rgb = np.dstack((r_normalized, g_normalized, b_normalized))\n",
    "\n",
    "    _, ax = plt.subplots(figsize=(40, 40))\n",
    "    ax.imshow(rgb)\n",
    "    ax.set_title(title)\n",
    "    plt.show()\n",
    "\n",
    "def convert_gtiff_to_img(file_path: str, output_png_path: str, title: str=\"\"):\n",
    "    # Open the GeoTIFF file\n",
    "    with rasterio.open(file_path) as im:\n",
    "        r = im.read(1)\n",
    "        g = im.read(2)\n",
    "        b = im.read(3)\n",
    "\n",
    "        r_normalized = normalize(r)\n",
    "        g_normalized = normalize(g)\n",
    "        b_normalized = normalize(b)\n",
    "\n",
    "        rgb = np.dstack((r_normalized, g_normalized, b_normalized))\n",
    "\n",
    "    plt.imsave(output_png_path, rgb)\n",
    "\n",
    "def normalize(array):\n",
    "    array_min, array_max = np.percentile(array, (1, 99))\n",
    "    array = np.clip(array, array_min, array_max)\n",
    "    return ((array - array_min) / (array_max - array_min) * 255).astype(np.uint8)\n",
    "\n",
    "class Dict2Class(object):\n",
    "    def __init__(self, my_dict):\n",
    "\n",
    "        for key in my_dict:\n",
    "            if type(my_dict[key]) is dict:\n",
    "                if key in [\"bbox\", \"timespans\", \"polygons\"]:\n",
    "                    my_dict[key] = Dict2Class(my_dict[key])\n",
    "            setattr(self, key, my_dict[key])\n",
    "\n",
    "s2 = {\n",
    "    \"s2_msi_l2a\": \"s2_msi_l2a\",\n",
    "    \"bbox\": {\n",
    "    }\n",
    "}\n",
    "s2 = Dict2Class(s2)"
   ]
  },
  {
   "cell_type": "markdown",
   "id": "c9a1a9e2-2a70-4590-8c6a-455e7c9e5d16",
   "metadata": {},
   "source": [
    "## Create a new job"
   ]
  },
  {
   "cell_type": "code",
   "execution_count": 25,
   "id": "380bfb3f-424b-4c0b-ac4f-ed57d0351ecd",
   "metadata": {},
   "outputs": [
    {
     "name": "stdout",
     "output_type": "stream",
     "text": [
      "Creating OpenEO job, ID= 9b82a468-33d1-4e1c-873e-de666e69d914\n"
     ]
    }
   ],
   "source": [
    "cube = connection.load_collection(collection_id=s2.s2_msi_l2a,\n",
    "                         spatial_extent=aoi,\n",
    "                         temporal_extent=[\"2024-08-02T00:00:00Z\", \"2024-08-10T10:00:00Z\"],\n",
    "                         bands=['b04', 'b03', 'b02', 'b08'],\n",
    "                        )\n",
    "\n",
    "job = cube.create_job(out_format=\"gtiff\",\n",
    "    title= \"Max time demo job1\",\n",
    "    description = \"This job was created from a notebook\")\n",
    "\n",
    "print(\"Creating OpenEO job, ID=\", job.job_id)"
   ]
  },
  {
   "cell_type": "markdown",
   "id": "0f3a51fc-c493-4c47-8d08-6f3a434a8502",
   "metadata": {},
   "source": [
    "## Start and wait"
   ]
  },
  {
   "cell_type": "code",
   "execution_count": 26,
   "id": "3ea7f995-457f-4597-a7e2-ecfeafb232ad",
   "metadata": {},
   "outputs": [
    {
     "name": "stdout",
     "output_type": "stream",
     "text": [
      "Starting OpenEO job, ID= 9b82a468-33d1-4e1c-873e-de666e69d914\n",
      "Waiting ...\n",
      "0:00:00 Job '9b82a468-33d1-4e1c-873e-de666e69d914': send 'start'\n",
      "0:00:00 Job '9b82a468-33d1-4e1c-873e-de666e69d914': running (progress 0.0%)\n",
      "0:00:05 Job '9b82a468-33d1-4e1c-873e-de666e69d914': running (progress 0.0%)\n",
      "0:00:11 Job '9b82a468-33d1-4e1c-873e-de666e69d914': running (progress 0.0%)\n",
      "0:00:19 Job '9b82a468-33d1-4e1c-873e-de666e69d914': running (progress 0.0%)\n",
      "0:00:29 Job '9b82a468-33d1-4e1c-873e-de666e69d914': finished (progress 0.0%)\n",
      "Job status: finished\n",
      "Job has finished.\n"
     ]
    },
    {
     "data": {
      "text/plain": [
       "[PosixPath('data/out/process.json'),\n",
       " PosixPath('data/out/out_2024_08_05T10_06_01.tif'),\n",
       " PosixPath('data/out/out_2024_08_06T10_25_59.tif'),\n",
       " PosixPath('data/out/out_2024_08_08T10_20_21.tif'),\n",
       " PosixPath('data/out/out_2024_08_03T10_15_59.tif'),\n",
       " PosixPath('data/out/stac.json'),\n",
       " PosixPath('data/out/9b82a468-33d1-4e1c-873e-de666e69d914.txt'),\n",
       " PosixPath('data/out/py_proc_std_out.txt'),\n",
       " PosixPath('data/out/py_proc_std_err.txt'),\n",
       " PosixPath('data/out/job-results.json')]"
      ]
     },
     "execution_count": 26,
     "metadata": {},
     "output_type": "execute_result"
    }
   ],
   "source": [
    "print(\"Starting OpenEO job, ID=\", job.job_id)\n",
    "print(\"Waiting ...\")\n",
    "job.start_and_wait()\n",
    "poll_job(job)\n",
    "\n",
    "results = job.get_results()\n",
    "results.get_metadata()\n",
    "results.download_files(\"data/out\")"
   ]
  },
  {
   "cell_type": "markdown",
   "id": "fdb88691-e7ed-497e-bf2e-c882ad709a61",
   "metadata": {},
   "source": [
    "## Cleanup"
   ]
  },
  {
   "cell_type": "code",
   "execution_count": 13,
   "id": "6cf97ea9-9ac0-464d-82a1-9a7608fe64b9",
   "metadata": {},
   "outputs": [
    {
     "name": "stdout",
     "output_type": "stream",
     "text": [
      "Cleaning junk files ...\n",
      "Deleted: data/out/py_proc_std_err.txt\n",
      "Deleted: data/out/stac.json\n",
      "Deleted: data/out/process.json\n",
      "Deleted: data/out/out_2024_08_05T10_06_01.jpg\n",
      "Deleted: data/out/out_2024_08_03T10_15_59.jpg\n",
      "Deleted: data/out/job-results.json\n",
      "Deleted: data/out/out_2024_08_06T10_25_59.jpg\n",
      "Deleted: data/out/py_proc_std_out.txt\n",
      "Deleted: data/out/d704d241-91b3-4649-83dc-97dfa2194f8c.txt\n",
      "Deleted: data/out/out_2024_08_08T10_20_21.jpg\n",
      "Deletion complete.\n"
     ]
    }
   ],
   "source": [
    "directory = Path('data/out')\n",
    "\n",
    "print(\"Cleaning junk files ...\")\n",
    "for file in directory.iterdir():\n",
    "    if file.is_file() and file.suffix != '.tif':\n",
    "        file.unlink()\n",
    "        print(f\"Deleted: {file}\")\n",
    "\n",
    "print(\"Deletion complete.\")"
   ]
  },
  {
   "cell_type": "markdown",
   "id": "a221c1fb-a589-4d40-91f3-4b5d125ff356",
   "metadata": {},
   "source": [
    "## Convert to JPEG"
   ]
  },
  {
   "cell_type": "code",
   "execution_count": 14,
   "id": "9fac9fc0-4a88-4641-869a-abd6f0f9ffe0",
   "metadata": {},
   "outputs": [
    {
     "name": "stdout",
     "output_type": "stream",
     "text": [
      "Converting to GeoTiff to JPEG ...\n",
      "Converted data/out/out_2024_08_06T10_25_59.tif to data/out/out_2024_08_06T10_25_59.jpg\n",
      "Converted data/out/out_2024_08_08T10_20_21.tif to data/out/out_2024_08_08T10_20_21.jpg\n",
      "Converted data/out/out_2024_08_03T10_15_59.tif to data/out/out_2024_08_03T10_15_59.jpg\n",
      "Converted data/out/out_2024_08_05T10_06_01.tif to data/out/out_2024_08_05T10_06_01.jpg\n"
     ]
    }
   ],
   "source": [
    "# plot_file('data/out/out_2024_08_06T10_25_59.tif')\n",
    "def convert_all_tif_to_jpg(directory: str):\n",
    "    dir_path = Path(directory)\n",
    "    \n",
    "    for tif_file in dir_path.glob('*.tif'):\n",
    "        jpg_file = tif_file.with_suffix('.jpg')\n",
    "        convert_gtiff_to_img(str(tif_file), str(jpg_file))\n",
    "        print(f\"Converted {tif_file} to {jpg_file}\")\n",
    "\n",
    "print(\"Converting to GeoTiff to JPEG ...\")\n",
    "\n",
    "convert_all_tif_to_jpg('data/out')"
   ]
  }
 ],
 "metadata": {
  "kernelspec": {
   "display_name": "Python 3 (ipykernel)",
   "language": "python",
   "name": "python3"
  },
  "language_info": {
   "codemirror_mode": {
    "name": "ipython",
    "version": 3
   },
   "file_extension": ".py",
   "mimetype": "text/x-python",
   "name": "python",
   "nbconvert_exporter": "python",
   "pygments_lexer": "ipython3",
   "version": "3.8.10"
  }
 },
 "nbformat": 4,
 "nbformat_minor": 5
}
